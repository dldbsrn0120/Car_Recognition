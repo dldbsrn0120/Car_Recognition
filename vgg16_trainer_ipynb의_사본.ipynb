{
  "nbformat": 4,
  "nbformat_minor": 0,
  "metadata": {
    "colab": {
      "name": "vgg16_trainer.ipynb의 사본",
      "provenance": [],
      "collapsed_sections": [],
      "authorship_tag": "ABX9TyOoylBqgMWAvWA1pvBVOq/w",
      "include_colab_link": true
    },
    "kernelspec": {
      "name": "python3",
      "display_name": "Python 3"
    },
    "accelerator": "GPU"
  },
  "cells": [
    {
      "cell_type": "markdown",
      "metadata": {
        "id": "view-in-github",
        "colab_type": "text"
      },
      "source": [
        "<a href=\"https://colab.research.google.com/github/dldbsrn0120/Car_Recognition/blob/master/vgg16_trainer_ipynb%EC%9D%98_%EC%82%AC%EB%B3%B8.ipynb\" target=\"_parent\"><img src=\"https://colab.research.google.com/assets/colab-badge.svg\" alt=\"Open In Colab\"/></a>"
      ]
    },
    {
      "cell_type": "code",
      "metadata": {
        "id": "AX7StUe33dgA",
        "colab_type": "code",
        "colab": {}
      },
      "source": [
        "!pip install keras"
      ],
      "execution_count": 0,
      "outputs": []
    },
    {
      "cell_type": "code",
      "metadata": {
        "id": "dbvwlv2s4-sG",
        "colab_type": "code",
        "outputId": "8d4b1e5d-2946-4888-e234-7f1aab48bec8",
        "colab": {
          "base_uri": "https://localhost:8080/",
          "height": 123
        }
      },
      "source": [
        "from google.colab import drive\n",
        "drive.mount('/content/drive')"
      ],
      "execution_count": 0,
      "outputs": [
        {
          "output_type": "stream",
          "text": [
            "Go to this URL in a browser: https://accounts.google.com/o/oauth2/auth?client_id=947318989803-6bn6qk8qdgf4n4g3pfee6491hc0brc4i.apps.googleusercontent.com&redirect_uri=urn%3aietf%3awg%3aoauth%3a2.0%3aoob&response_type=code&scope=email%20https%3a%2f%2fwww.googleapis.com%2fauth%2fdocs.test%20https%3a%2f%2fwww.googleapis.com%2fauth%2fdrive%20https%3a%2f%2fwww.googleapis.com%2fauth%2fdrive.photos.readonly%20https%3a%2f%2fwww.googleapis.com%2fauth%2fpeopleapi.readonly\n",
            "\n",
            "Enter your authorization code:\n",
            "··········\n",
            "Mounted at /content/drive\n"
          ],
          "name": "stdout"
        }
      ]
    },
    {
      "cell_type": "code",
      "metadata": {
        "id": "lwQoYY3HLP1n",
        "colab_type": "code",
        "outputId": "d965a5b5-be73-49a2-f65e-4e9040f5c435",
        "colab": {
          "base_uri": "https://localhost:8080/",
          "height": 34
        }
      },
      "source": [
        "#install GapCV\n",
        "!pip install -q gapcv"
      ],
      "execution_count": 0,
      "outputs": [
        {
          "output_type": "stream",
          "text": [
            "  Building wheel for gapcv (setup.py) ... \u001b[?25l\u001b[?25hdone\n"
          ],
          "name": "stdout"
        }
      ]
    },
    {
      "cell_type": "code",
      "metadata": {
        "id": "0rDsOtYvLKbU",
        "colab_type": "code",
        "colab": {}
      },
      "source": [
        "import gapcv\n",
        "from gapcv.vision import Images\n",
        "from gapcv.utils.img_tools import ImgUtils"
      ],
      "execution_count": 0,
      "outputs": []
    },
    {
      "cell_type": "code",
      "metadata": {
        "id": "xKPrFys_t3Dg",
        "colab_type": "code",
        "outputId": "bb9b0dd8-c63b-48e3-d78c-257590f7419f",
        "colab": {
          "base_uri": "https://localhost:8080/",
          "height": 34
        }
      },
      "source": [
        "from google.colab.patches import cv2_imshow\n",
        "\n",
        "from keras_applications.vgg16 import VGG16\n",
        "from keras.applications.vgg16 import preprocess_input\n",
        "\n",
        "from keras.callbacks import ModelCheckpoint\n",
        "\n",
        "from keras.models import Model\n",
        "\n",
        "from keras.preprocessing import image\n",
        "from keras.preprocessing.image import load_img\n",
        "from keras.preprocessing.image import img_to_array\n",
        "from keras.preprocessing.image import array_to_img\n",
        "from keras.preprocessing.image import ImageDataGenerator\n",
        "\n",
        "from keras import models, layers\n",
        "from keras import optimizers, initializers, regularizers, metrics\n",
        "\n",
        "from glob import glob\n",
        "\n",
        "import keras\n",
        "import matplotlib.pyplot as plt\n",
        "import cv2 as cv\n",
        "import numpy as np\n",
        "import pandas as pd\n",
        "\n",
        "import os\n",
        "import random"
      ],
      "execution_count": 0,
      "outputs": [
        {
          "output_type": "stream",
          "text": [
            "Using TensorFlow backend.\n"
          ],
          "name": "stderr"
        }
      ]
    },
    {
      "cell_type": "code",
      "metadata": {
        "id": "H6GPe8BL49ZX",
        "colab_type": "code",
        "outputId": "0e5179cb-cec5-46b8-8714-6f413e30d518",
        "colab": {
          "base_uri": "https://localhost:8080/",
          "height": 814
        }
      },
      "source": [
        "pre_model = VGG16(weights=None, include_top=False, input_shape=(224, 224, 3), backend=keras.backend, layers=keras.layers, models=keras.models, utils=keras.utils)\n",
        "pre_model.trainable = False\n",
        "pre_model.summary()"
      ],
      "execution_count": 0,
      "outputs": [
        {
          "output_type": "stream",
          "text": [
            "Model: \"vgg16\"\n",
            "_________________________________________________________________\n",
            "Layer (type)                 Output Shape              Param #   \n",
            "=================================================================\n",
            "input_1 (InputLayer)         (None, 224, 224, 3)       0         \n",
            "_________________________________________________________________\n",
            "block1_conv1 (Conv2D)        (None, 224, 224, 64)      1792      \n",
            "_________________________________________________________________\n",
            "block1_conv2 (Conv2D)        (None, 224, 224, 64)      36928     \n",
            "_________________________________________________________________\n",
            "block1_pool (MaxPooling2D)   (None, 112, 112, 64)      0         \n",
            "_________________________________________________________________\n",
            "block2_conv1 (Conv2D)        (None, 112, 112, 128)     73856     \n",
            "_________________________________________________________________\n",
            "block2_conv2 (Conv2D)        (None, 112, 112, 128)     147584    \n",
            "_________________________________________________________________\n",
            "block2_pool (MaxPooling2D)   (None, 56, 56, 128)       0         \n",
            "_________________________________________________________________\n",
            "block3_conv1 (Conv2D)        (None, 56, 56, 256)       295168    \n",
            "_________________________________________________________________\n",
            "block3_conv2 (Conv2D)        (None, 56, 56, 256)       590080    \n",
            "_________________________________________________________________\n",
            "block3_conv3 (Conv2D)        (None, 56, 56, 256)       590080    \n",
            "_________________________________________________________________\n",
            "block3_pool (MaxPooling2D)   (None, 28, 28, 256)       0         \n",
            "_________________________________________________________________\n",
            "block4_conv1 (Conv2D)        (None, 28, 28, 512)       1180160   \n",
            "_________________________________________________________________\n",
            "block4_conv2 (Conv2D)        (None, 28, 28, 512)       2359808   \n",
            "_________________________________________________________________\n",
            "block4_conv3 (Conv2D)        (None, 28, 28, 512)       2359808   \n",
            "_________________________________________________________________\n",
            "block4_pool (MaxPooling2D)   (None, 14, 14, 512)       0         \n",
            "_________________________________________________________________\n",
            "block5_conv1 (Conv2D)        (None, 14, 14, 512)       2359808   \n",
            "_________________________________________________________________\n",
            "block5_conv2 (Conv2D)        (None, 14, 14, 512)       2359808   \n",
            "_________________________________________________________________\n",
            "block5_conv3 (Conv2D)        (None, 14, 14, 512)       2359808   \n",
            "_________________________________________________________________\n",
            "block5_pool (MaxPooling2D)   (None, 7, 7, 512)         0         \n",
            "=================================================================\n",
            "Total params: 14,714,688\n",
            "Trainable params: 0\n",
            "Non-trainable params: 14,714,688\n",
            "_________________________________________________________________\n"
          ],
          "name": "stdout"
        }
      ]
    },
    {
      "cell_type": "code",
      "metadata": {
        "id": "xCeVv9A6Byjs",
        "colab_type": "code",
        "outputId": "acd1e40b-d790-4aa6-bc6c-a365dca6bbb1",
        "colab": {
          "base_uri": "https://localhost:8080/",
          "height": 329
        }
      },
      "source": [
        "# add output layer for VGG16 output (4096 -> 1000 => 4096 -> 1000 -> 100)\n",
        "additional_model = models.Sequential()\n",
        "additional_model.add(pre_model)\n",
        "additional_model.add(layers.Flatten())\n",
        "additional_model.add(layers.Dense(4096, activation='relu'))\n",
        "additional_model.add(layers.Dense(1000, activation='relu'))\n",
        "#additional_model.add(layers.Dropout(0.5))\n",
        "#additional_model.add(layers.Dense(100, activation='softmax')) \n",
        "additional_model.add(layers.Dense(8, activation='softmax')) #test\n",
        " \n",
        "additional_model.summary()\n"
      ],
      "execution_count": 0,
      "outputs": [
        {
          "output_type": "stream",
          "text": [
            "Model: \"sequential_1\"\n",
            "_________________________________________________________________\n",
            "Layer (type)                 Output Shape              Param #   \n",
            "=================================================================\n",
            "vgg16 (Model)                (None, 7, 7, 512)         14714688  \n",
            "_________________________________________________________________\n",
            "flatten_1 (Flatten)          (None, 25088)             0         \n",
            "_________________________________________________________________\n",
            "dense_1 (Dense)              (None, 4096)              102764544 \n",
            "_________________________________________________________________\n",
            "dense_2 (Dense)              (None, 1000)              4097000   \n",
            "_________________________________________________________________\n",
            "dense_3 (Dense)              (None, 8)                 8008      \n",
            "=================================================================\n",
            "Total params: 121,584,240\n",
            "Trainable params: 106,869,552\n",
            "Non-trainable params: 14,714,688\n",
            "_________________________________________________________________\n"
          ],
          "name": "stdout"
        }
      ]
    },
    {
      "cell_type": "markdown",
      "metadata": {
        "id": "aZ9inwkf5ShI",
        "colab_type": "text"
      },
      "source": [
        ""
      ]
    },
    {
      "cell_type": "code",
      "metadata": {
        "id": "nQ2p9nwDnS-L",
        "colab_type": "code",
        "colab": {}
      },
      "source": [
        "'''from keras.models import Sequential\n",
        "\n",
        "vgg_model = Sequential()\n",
        "for layer in pre_model.layers:\n",
        "    vgg_model.add(layer)\n",
        "for layer in additional_model.layers:\n",
        "    vgg_model.add(layer)\n",
        "vgg_model.summary()'''"
      ],
      "execution_count": 0,
      "outputs": []
    },
    {
      "cell_type": "code",
      "metadata": {
        "id": "eugpCs53a0Ba",
        "colab_type": "code",
        "colab": {}
      },
      "source": [
        "checkpoint = ModelCheckpoint(filepath=\"vgg_car_weight.hdf5\",\n",
        "                             monitor='loss',\n",
        "                             mode='min',\n",
        "                             save_best_only=True\n",
        "                             )\n",
        "\n",
        "additional_model.compile(loss='categorical_crossentropy', optimizer=optimizers.RMSprop(lr=2e-5), metrics=['acc'])\n",
        "#additional_model.compile(Adam(learning_rate), loss='categorical_crossentropy', optimizer=optimizers.RMSprop(lr=2e-5), metrics=['acc'])"
      ],
      "execution_count": 0,
      "outputs": []
    },
    {
      "cell_type": "code",
      "metadata": {
        "id": "xejS-m0Ja0JL",
        "colab_type": "code",
        "outputId": "eda075a0-dcbf-40cc-bbce-f84acdb57e7e",
        "colab": {
          "base_uri": "https://localhost:8080/",
          "height": 51
        }
      },
      "source": [
        "\n",
        "train_dir = \"/content/drive/My Drive/CarDatabaseShare/car_generator_test/train_set/\"\n",
        "test_dir = \"/content/drive/My Drive/CarDatabaseShare/car_generator_test/test_set/\"\n",
        "val_dir = \"/content/drive/My Drive/CarDatabaseShare/car_generator_test/valid_set/\"\n",
        "\n",
        "train_datagen = ImageDataGenerator(rescale=1./255)\n",
        "val_datagen = ImageDataGenerator(rescale=1./255)\n",
        "test_datagen = ImageDataGenerator(rescale=1./255)\n",
        "\n",
        "train_generator = train_datagen.flow_from_directory(train_dir, batch_size=16, target_size=(224, 224), color_mode='rgb')\n",
        "val_generator = val_datagen.flow_from_directory(val_dir, batch_size=16, target_size=(224, 224), color_mode='rgb')\n",
        " \n",
        "# convert color image to grayscale image\n",
        "\n",
        "# to-do"
      ],
      "execution_count": 0,
      "outputs": [
        {
          "output_type": "stream",
          "text": [
            "Found 3087 images belonging to 8 classes.\n",
            "Found 1032 images belonging to 8 classes.\n"
          ],
          "name": "stdout"
        }
      ]
    },
    {
      "cell_type": "code",
      "metadata": {
        "id": "njUdLusoK5ou",
        "colab_type": "code",
        "outputId": "41056c5f-b2df-4b41-cc1c-553fdd178ccb",
        "colab": {
          "base_uri": "https://localhost:8080/",
          "height": 1000
        }
      },
      "source": [
        "history = additional_model.fit_generator(train_generator, \n",
        "            steps_per_epoch=30, \n",
        "            epochs=30, \n",
        "            validation_data=val_generator, \n",
        "            validation_steps=10, \n",
        "            callbacks=[checkpoint])\n",
        " "
      ],
      "execution_count": 0,
      "outputs": [
        {
          "output_type": "stream",
          "text": [
            "Epoch 1/30\n",
            "30/30 [==============================] - 308s 10s/step - loss: 2.0785 - acc: 0.1437 - val_loss: 2.0704 - val_acc: 0.1250\n",
            "Epoch 2/30\n",
            "30/30 [==============================] - 308s 10s/step - loss: 2.0781 - acc: 0.1461 - val_loss: 2.0770 - val_acc: 0.1187\n",
            "Epoch 3/30\n",
            "30/30 [==============================] - 299s 10s/step - loss: 2.0737 - acc: 0.1688 - val_loss: 2.0707 - val_acc: 0.1437\n",
            "Epoch 4/30\n",
            "30/30 [==============================] - 299s 10s/step - loss: 2.0686 - acc: 0.1708 - val_loss: 2.0667 - val_acc: 0.2375\n",
            "Epoch 5/30\n",
            "30/30 [==============================] - 301s 10s/step - loss: 2.0711 - acc: 0.1521 - val_loss: 2.0661 - val_acc: 0.1375\n",
            "Epoch 6/30\n",
            "30/30 [==============================] - 298s 10s/step - loss: 2.0728 - acc: 0.1229 - val_loss: 2.0664 - val_acc: 0.1000\n",
            "Epoch 7/30\n",
            "30/30 [==============================] - 155s 5s/step - loss: 2.0645 - acc: 0.1458 - val_loss: 2.0224 - val_acc: 0.1382\n",
            "Epoch 8/30\n",
            "30/30 [==============================] - 34s 1s/step - loss: 2.0532 - acc: 0.1708 - val_loss: 2.0759 - val_acc: 0.1375\n",
            "Epoch 9/30\n",
            "30/30 [==============================] - 39s 1s/step - loss: 2.0631 - acc: 0.1167 - val_loss: 1.9968 - val_acc: 0.1375\n",
            "Epoch 10/30\n",
            "30/30 [==============================] - 40s 1s/step - loss: 2.0585 - acc: 0.1500 - val_loss: 2.0876 - val_acc: 0.1375\n",
            "Epoch 11/30\n",
            "30/30 [==============================] - 41s 1s/step - loss: 2.0504 - acc: 0.1458 - val_loss: 2.0822 - val_acc: 0.1312\n",
            "Epoch 12/30\n",
            "30/30 [==============================] - 40s 1s/step - loss: 2.0513 - acc: 0.2129 - val_loss: 2.0542 - val_acc: 0.2375\n",
            "Epoch 13/30\n",
            "30/30 [==============================] - 39s 1s/step - loss: 2.0448 - acc: 0.2104 - val_loss: 2.0104 - val_acc: 0.1447\n",
            "Epoch 14/30\n",
            "30/30 [==============================] - 40s 1s/step - loss: 2.0369 - acc: 0.1979 - val_loss: 2.0020 - val_acc: 0.2625\n",
            "Epoch 15/30\n",
            "30/30 [==============================] - 39s 1s/step - loss: 2.0396 - acc: 0.2917 - val_loss: 2.0366 - val_acc: 0.2375\n",
            "Epoch 16/30\n",
            "30/30 [==============================] - 39s 1s/step - loss: 2.0175 - acc: 0.2396 - val_loss: 1.9719 - val_acc: 0.1875\n",
            "Epoch 17/30\n",
            "30/30 [==============================] - 40s 1s/step - loss: 2.0191 - acc: 0.2625 - val_loss: 2.0182 - val_acc: 0.2250\n",
            "Epoch 18/30\n",
            "30/30 [==============================] - 40s 1s/step - loss: 2.0176 - acc: 0.2923 - val_loss: 1.9839 - val_acc: 0.2375\n",
            "Epoch 19/30\n",
            "30/30 [==============================] - 40s 1s/step - loss: 2.0094 - acc: 0.2917 - val_loss: 2.0178 - val_acc: 0.2562\n",
            "Epoch 20/30\n",
            "30/30 [==============================] - 42s 1s/step - loss: 2.0040 - acc: 0.3083 - val_loss: 2.0295 - val_acc: 0.2697\n",
            "Epoch 21/30\n",
            "30/30 [==============================] - 36s 1s/step - loss: 1.9821 - acc: 0.3132 - val_loss: 1.9444 - val_acc: 0.1688\n",
            "Epoch 22/30\n",
            "30/30 [==============================] - 41s 1s/step - loss: 1.9919 - acc: 0.2688 - val_loss: 1.9639 - val_acc: 0.2562\n",
            "Epoch 23/30\n",
            "30/30 [==============================] - 40s 1s/step - loss: 1.9756 - acc: 0.2771 - val_loss: 2.0164 - val_acc: 0.2562\n",
            "Epoch 24/30\n",
            "30/30 [==============================] - 42s 1s/step - loss: 1.9515 - acc: 0.3542 - val_loss: 1.9882 - val_acc: 0.2438\n",
            "Epoch 25/30\n",
            "30/30 [==============================] - 40s 1s/step - loss: 1.9457 - acc: 0.3083 - val_loss: 1.9576 - val_acc: 0.2375\n",
            "Epoch 26/30\n",
            "30/30 [==============================] - 40s 1s/step - loss: 1.9534 - acc: 0.3104 - val_loss: 1.9600 - val_acc: 0.3421\n",
            "Epoch 27/30\n",
            "30/30 [==============================] - 39s 1s/step - loss: 1.9398 - acc: 0.3229 - val_loss: 1.9482 - val_acc: 0.2625\n",
            "Epoch 28/30\n",
            "30/30 [==============================] - 41s 1s/step - loss: 1.9207 - acc: 0.3500 - val_loss: 1.8171 - val_acc: 0.3187\n",
            "Epoch 29/30\n",
            "30/30 [==============================] - 41s 1s/step - loss: 1.9209 - acc: 0.3375 - val_loss: 1.8925 - val_acc: 0.2812\n",
            "Epoch 30/30\n",
            "30/30 [==============================] - 41s 1s/step - loss: 1.9144 - acc: 0.3271 - val_loss: 1.8839 - val_acc: 0.3688\n"
          ],
          "name": "stdout"
        }
      ]
    },
    {
      "cell_type": "code",
      "metadata": {
        "id": "Jk55a0Mta0Tj",
        "colab_type": "code",
        "outputId": "4c0debb8-acf0-465a-ae1c-950669a808bf",
        "colab": {
          "base_uri": "https://localhost:8080/",
          "height": 545
        }
      },
      "source": [
        "acc = history.history['acc']\n",
        "val_acc = history.history['val_acc']\n",
        "loss = history.history['loss']\n",
        "val_loss = history.history['val_loss']\n",
        " \n",
        "epochs = range(1, len(acc) + 1)\n",
        " \n",
        "plt.plot(epochs, acc, 'bo', label='Training acc')\n",
        "plt.plot(epochs, val_acc, 'b', label='Validation acc')\n",
        "plt.title('Accuracy')\n",
        "plt.legend()\n",
        "plt.figure()\n",
        " \n",
        "plt.plot(epochs, loss, 'ro', label='Training loss')\n",
        "plt.plot(epochs, val_loss, 'r', label='Validation loss')\n",
        "plt.title('Loss')\n",
        "plt.legend()\n",
        " \n",
        "plt.show()\n"
      ],
      "execution_count": 0,
      "outputs": [
        {
          "output_type": "display_data",
          "data": {
            "image/png": "[encoded data removed]",
            "text/plain": [
              "<Figure size 432x288 with 1 Axes>"
            ]
          },
          "metadata": {
            "tags": [],
            "needs_background": "light"
          }
        },
        {
          "output_type": "display_data",
          "data": {
            "image/png": "[encoded data removed]",
            "text/plain": [
              "<Figure size 432x288 with 1 Axes>"
            ]
          },
          "metadata": {
            "tags": [],
            "needs_background": "light"
          }
        }
      ]
    },
    {
      "cell_type": "code",
      "metadata": {
        "id": "jj-zmm7Dvh7H",
        "colab_type": "code",
        "outputId": "ed7a3c26-9cc6-430e-d615-5ea82626e382",
        "colab": {
          "base_uri": "https://localhost:8080/",
          "height": 52
        }
      },
      "source": [
        "import shutil\n",
        "\n",
        "additional_model.save_weights(\"weights.h5\")\n",
        "print(\"Saved model to disk\")\n",
        "\n",
        "shutil.copy(\"weights.h5\", \"/content/drive/My Drive/CarDatabaseShare/\" + \"weights.h5\")"
      ],
      "execution_count": 10,
      "outputs": [
        {
          "output_type": "stream",
          "text": [
            "Saved model to disk\n"
          ],
          "name": "stdout"
        },
        {
          "output_type": "execute_result",
          "data": {
            "text/plain": [
              "'/content/drive/My Drive/CarDatabaseShare/weights.h5'"
            ]
          },
          "metadata": {
            "tags": []
          },
          "execution_count": 10
        }
      ]
    },
    {
      "cell_type": "code",
      "metadata": {
        "id": "C8sWVSZpluwO",
        "colab_type": "code",
        "colab": {
          "base_uri": "https://localhost:8080/",
          "height": 52
        },
        "outputId": "ebfa2604-7e93-409e-c5d9-c7b129018427"
      },
      "source": [
        "test_generator = test_datagen.flow_from_directory(test_dir, batch_size=16, target_size=(224, 224), color_mode='rgb')\n",
        "\n",
        "scores = additional_model.evaluate_generator(test_generator, steps=5)\n",
        "print(\"%s: %.2f%%\" %(additional_model.metrics_names[1], scores[1]*100))"
      ],
      "execution_count": 11,
      "outputs": [
        {
          "output_type": "stream",
          "text": [
            "Found 1023 images belonging to 8 classes.\n",
            "acc: 20.00%\n"
          ],
          "name": "stdout"
        }
      ]
    },
    {
      "cell_type": "code",
      "metadata": {
        "id": "dtwpd_Dlv6wR",
        "colab_type": "code",
        "outputId": "6751c77b-2b67-4f20-bef4-1ed3125280e6",
        "colab": {
          "base_uri": "https://localhost:8080/",
          "height": 228
        }
      },
      "source": [
        "### 여기까지 함 ###"
      ],
      "execution_count": 0,
      "outputs": [
        {
          "output_type": "stream",
          "text": [
            "50\n",
            "100\n",
            "150\n",
            "200\n",
            "250\n",
            "300\n",
            "350\n",
            "400\n",
            "450\n",
            "500\n",
            "550\n",
            "600\n"
          ],
          "name": "stdout"
        }
      ]
    },
    {
      "cell_type": "code",
      "metadata": {
        "id": "q5qizttm3Goq",
        "colab_type": "code",
        "outputId": "5579a1af-25a4-40a9-f8e9-9ae816ff6931",
        "colab": {
          "base_uri": "https://localhost:8080/",
          "height": 292
        }
      },
      "source": [
        ""
      ],
      "execution_count": 0,
      "outputs": [
        {
          "output_type": "stream",
          "text": [
            "386\n",
            "255\n",
            "(386, 1, 224, 224, 3)\n",
            "(255, 1, 224, 224, 3)\n"
          ],
          "name": "stdout"
        },
        {
          "output_type": "error",
          "ename": "AttributeError",
          "evalue": "ignored",
          "traceback": [
            "\u001b[0;31m---------------------------------------------------------------------------\u001b[0m",
            "\u001b[0;31mAttributeError\u001b[0m                            Traceback (most recent call last)",
            "\u001b[0;32m<ipython-input-67-27d9779f2bb7>\u001b[0m in \u001b[0;36m<module>\u001b[0;34m()\u001b[0m\n\u001b[1;32m      5\u001b[0m \u001b[0mprint\u001b[0m\u001b[0;34m(\u001b[0m\u001b[0mx_train_sq\u001b[0m\u001b[0;34m.\u001b[0m\u001b[0mshape\u001b[0m\u001b[0;34m)\u001b[0m\u001b[0;34m\u001b[0m\u001b[0;34m\u001b[0m\u001b[0m\n\u001b[1;32m      6\u001b[0m \u001b[0mprint\u001b[0m\u001b[0;34m(\u001b[0m\u001b[0mx_test_sq\u001b[0m\u001b[0;34m.\u001b[0m\u001b[0mshape\u001b[0m\u001b[0;34m)\u001b[0m\u001b[0;34m\u001b[0m\u001b[0;34m\u001b[0m\u001b[0m\n\u001b[0;32m----> 7\u001b[0;31m \u001b[0mprint\u001b[0m\u001b[0;34m(\u001b[0m\u001b[0mx_train\u001b[0m\u001b[0;34m.\u001b[0m\u001b[0mshape\u001b[0m\u001b[0;34m)\u001b[0m\u001b[0;34m\u001b[0m\u001b[0;34m\u001b[0m\u001b[0m\n\u001b[0m\u001b[1;32m      8\u001b[0m \u001b[0mprint\u001b[0m\u001b[0;34m(\u001b[0m\u001b[0mx_test\u001b[0m\u001b[0;34m.\u001b[0m\u001b[0mshape\u001b[0m\u001b[0;34m)\u001b[0m\u001b[0;34m\u001b[0m\u001b[0;34m\u001b[0m\u001b[0m\n",
            "\u001b[0;31mAttributeError\u001b[0m: 'list' object has no attribute 'shape'"
          ]
        }
      ]
    },
    {
      "cell_type": "code",
      "metadata": {
        "id": "jkJyIVZeHddM",
        "colab_type": "code",
        "outputId": "9d3e7799-e4fb-4d79-a74a-660be75e98f1",
        "colab": {
          "base_uri": "https://localhost:8080/",
          "height": 34
        }
      },
      "source": [
        "#test_features = additional_model.predict(np.array(x_test_sq), batch_size=32, verbose=1)"
      ],
      "execution_count": 0,
      "outputs": [
        {
          "output_type": "stream",
          "text": [
            "255/255 [==============================] - 116s 454ms/step\n"
          ],
          "name": "stdout"
        }
      ]
    },
    {
      "cell_type": "code",
      "metadata": {
        "id": "N0lCPUpJHlKU",
        "colab_type": "code",
        "colab": {}
      },
      "source": [
        "'''np.savez(\"train_features\", train_features, y_train)\n",
        "np.savez(\"test_features\", test_features, y_test)'''"
      ],
      "execution_count": 0,
      "outputs": []
    },
    {
      "cell_type": "code",
      "metadata": {
        "id": "sF3SiokdIUSh",
        "colab_type": "code",
        "outputId": "ad39e370-8915-4dd4-b306-6aec896f8198",
        "colab": {
          "base_uri": "https://localhost:8080/",
          "height": 87
        }
      },
      "source": [
        "'''print(train_features.shape)\n",
        "print(test_features.shape)'''"
      ],
      "execution_count": 0,
      "outputs": [
        {
          "output_type": "stream",
          "text": [
            "(386, 10)\n",
            "(255, 10)\n",
            "[0.09982256 0.10010024 0.09978935 0.09990938 0.1001852  0.09982388\n",
            " 0.09987855 0.10004623 0.10020854 0.10023609]\n"
          ],
          "name": "stdout"
        }
      ]
    },
    {
      "cell_type": "code",
      "metadata": {
        "id": "p_ZVRe7iIOJ2",
        "colab_type": "code",
        "colab": {}
      },
      "source": [
        "'''train_features_flat = np.reshape(train_features, (train_features.shape[0], 1*1*512))\n",
        "test_features_flat = np.reshape(test_features, (test_features.shape[0], 1*1*512))'''"
      ],
      "execution_count": 0,
      "outputs": []
    },
    {
      "cell_type": "code",
      "metadata": {
        "id": "t0ul82eVztXe",
        "colab_type": "code",
        "colab": {}
      },
      "source": [
        "'''history = additional_model.fit(x_train_sq, y_train, batch_size=32, epochs=10)\n",
        "score = model.evaluate(x_test_sq, y_test, batch_size=32)'''"
      ],
      "execution_count": 0,
      "outputs": []
    },
    {
      "cell_type": "code",
      "metadata": {
        "id": "b-QZrV6smMV3",
        "colab_type": "code",
        "outputId": "528fefa7-ec53-4cb1-de60-9b26736715e5",
        "colab": {
          "base_uri": "https://localhost:8080/",
          "height": 52
        }
      },
      "source": [
        "'''#for i in x_test:\n",
        "#test code\n",
        "image = load_img(x_test[0], target_size=(224,224))\n",
        "image = img_to_array(image)\n",
        "print(image.shape)\n",
        "image = image.reshape((1, image.shape[0], image.shape[1], image.shape[2]))\n",
        "print(image.shape)\n",
        "image = preprocess_input(image)\n",
        "#yhat = additional_model.predict(image)\n",
        "#print(yhat)\n",
        "#label = decode_predictions(yhat)\n",
        "#label = label[0][0]\n",
        "\n",
        "#imagee = image\n",
        "#imagee = imagee.reshape(imagee.shape[1],imagee.shape[2],imagee.shape[3])\n",
        "#imagee = array_to_img(imagee)\n",
        "#cv2_imshow(imagee)\n",
        "\n",
        "#print('%s (%.2f%%)' % (label[1], label[2]*100))'''"
      ],
      "execution_count": 0,
      "outputs": [
        {
          "output_type": "stream",
          "text": [
            "(224, 224, 3)\n",
            "(1, 224, 224, 3)\n"
          ],
          "name": "stdout"
        }
      ]
    },
    {
      "cell_type": "code",
      "metadata": {
        "id": "emwynKKAxn78",
        "colab_type": "code",
        "colab": {}
      },
      "source": [
        "'''history = additional_model.fit(x_train, y_train, batch_size=32, epochs=10)'''\n",
        "score = model.evaluate(x_test, y_test, batch_size=32)\n"
      ],
      "execution_count": 0,
      "outputs": []
    },
    {
      "cell_type": "code",
      "metadata": {
        "id": "JQH7chlu-JAP",
        "colab_type": "code",
        "outputId": "63931fe7-7590-40e3-f515-e2c30632d1e9",
        "colab": {
          "base_uri": "https://localhost:8080/",
          "height": 52
        }
      },
      "source": [
        "print(len(x_train))\n",
        "print(len(y_train))\n",
        "\n",
        "import random\n",
        "for_shuffle = [[x,y] for x, y in zip(x_train, y_train)]\n",
        "\n",
        "random.shuffle(for_shuffle)\n",
        "x_train = [n[0] for n in for_shuffle]\n",
        "y_train = [n[1] for n in for_shuffle]\n",
        "#for i in range(len(x_train)):\n",
        "    #print(x_train[i] + ',' + str(y_train[i]))"
      ],
      "execution_count": 0,
      "outputs": [
        {
          "output_type": "stream",
          "text": [
            "3820\n",
            "3820\n"
          ],
          "name": "stdout"
        }
      ]
    },
    {
      "cell_type": "code",
      "metadata": {
        "id": "LL61K756g_mJ",
        "colab_type": "code",
        "colab": {}
      },
      "source": [
        "# training dataset load (how to prepare training input values)\n",
        "# input image to the model\n",
        "'''\n",
        "x_train_imgsrc = []\n",
        "x_test_imgsrc = []\n",
        "x_valid_imgsrc = []\n",
        "\n",
        "x_train = []\n",
        "x_test = []\n",
        "x_valid = []\n",
        "\n",
        "y_train = []\n",
        "y_test = []\n",
        "y_valid = []\n",
        "\n",
        "img_path_csv = np.loadtxt(\"/content/drive/My Drive/CarDatabaseShare/retrieve_path_list.csv\", delimiter=',', dtype='str')\n",
        "for i in range(0, 10):\n",
        "    print(img_path_csv[i][0])\n",
        "    listdirr = os.listdir(img_path_csv[i][1])\n",
        "    cnt = 0\n",
        "    for j in listdirr:\n",
        "        if cnt <= int(int(img_path_csv[i][2]) * 0.06): # just for test\n",
        "            x_train_imgsrc.append(img_path_csv[i][1] + '/' + j)\n",
        "            y_train.append(img_path_csv[i][0])\n",
        "        elif cnt <= int(int(img_path_csv[i][2]) * 0.1):\n",
        "            x_test_imgsrc.append(img_path_csv[i][1] + '/' + j)\n",
        "            y_test.append(img_path_csv[i][0])\n",
        "        ''''''if cnt <= int(int(img_path_csv[i][2]) * 0.6):\n",
        "            x_train_imgsrc.append(img_path_csv[i][1] + '/' + j)\n",
        "            y_train.append(img_path_csv[i][0])\n",
        "        else:\n",
        "            x_test_imgsrc.append(img_path_csv[i][1] + '/' + j)\n",
        "            y_test.append(img_path_csv[i][0])''''''\n",
        "        cnt += 1\n",
        "    #print(cnt)\n",
        "#print(x_train)\n",
        "#print(y_train)\n",
        "'''"
      ],
      "execution_count": 0,
      "outputs": []
    }
  ]
}