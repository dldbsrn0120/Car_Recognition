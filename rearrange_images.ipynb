{
  "nbformat": 4,
  "nbformat_minor": 0,
  "metadata": {
    "colab": {
      "name": "rearrange_images.ipynb",
      "provenance": [],
      "authorship_tag": "ABX9TyNxyhgH6M+9lm9ivdjVoKnN",
      "include_colab_link": true
    },
    "kernelspec": {
      "name": "python3",
      "display_name": "Python 3"
    }
  },
  "cells": [
    {
      "cell_type": "markdown",
      "metadata": {
        "id": "view-in-github",
        "colab_type": "text"
      },
      "source": [
        "<a href=\"https://colab.research.google.com/github/dldbsrn0120/Car_Recognition/blob/master/rearrange_images.ipynb\" target=\"_parent\"><img src=\"https://colab.research.google.com/assets/colab-badge.svg\" alt=\"Open In Colab\"/></a>"
      ]
    },
    {
      "cell_type": "code",
      "metadata": {
        "id": "MSWsWW8eVBNF",
        "colab_type": "code",
        "colab": {}
      },
      "source": [
        "import os\n",
        "import shutil"
      ],
      "execution_count": 0,
      "outputs": []
    },
    {
      "cell_type": "code",
      "metadata": {
        "id": "-a-7UshtbCzK",
        "colab_type": "code",
        "colab": {
          "base_uri": "https://localhost:8080/",
          "height": 125
        },
        "outputId": "c4cd6fe3-ee6a-433b-9896-cd02f6e15922"
      },
      "source": [
        "from google.colab import drive\n",
        "drive.mount('/content/drive')"
      ],
      "execution_count": 3,
      "outputs": [
        {
          "output_type": "stream",
          "text": [
            "Go to this URL in a browser: https://accounts.google.com/o/oauth2/auth?client_id=947318989803-6bn6qk8qdgf4n4g3pfee6491hc0brc4i.apps.googleusercontent.com&redirect_uri=urn%3aietf%3awg%3aoauth%3a2.0%3aoob&response_type=code&scope=email%20https%3a%2f%2fwww.googleapis.com%2fauth%2fdocs.test%20https%3a%2f%2fwww.googleapis.com%2fauth%2fdrive%20https%3a%2f%2fwww.googleapis.com%2fauth%2fdrive.photos.readonly%20https%3a%2f%2fwww.googleapis.com%2fauth%2fpeopleapi.readonly\n",
            "\n",
            "Enter your authorization code:\n",
            "··········\n",
            "Mounted at /content/drive\n"
          ],
          "name": "stdout"
        }
      ]
    },
    {
      "cell_type": "code",
      "metadata": {
        "id": "vM7Bi0DEbD1Q",
        "colab_type": "code",
        "colab": {
          "base_uri": "https://localhost:8080/",
          "height": 34
        },
        "outputId": "60ef8c2b-1d70-4896-ac6f-ff907a4e1fd2"
      },
      "source": [
        "os.chdir(\"/content/drive/My Drive/CarDatabaseShare/kcar\")\n",
        "os.getcwd()"
      ],
      "execution_count": 4,
      "outputs": [
        {
          "output_type": "execute_result",
          "data": {
            "text/plain": [
              "'/content/drive/My Drive/CarDatabaseShare/kcar'"
            ]
          },
          "metadata": {
            "tags": []
          },
          "execution_count": 4
        }
      ]
    },
    {
      "cell_type": "code",
      "metadata": {
        "id": "wg_CjTkobW7R",
        "colab_type": "code",
        "colab": {
          "base_uri": "https://localhost:8080/",
          "height": 52
        },
        "outputId": "00cfda72-4d3a-4b48-f0f9-546430220598"
      },
      "source": [
        "pathstr = os.getcwd()\n",
        "child_dirs = os.listdir(pathstr)\n",
        "\n",
        "print(\"PATH : \" + pathstr)\n",
        "print(\"CHILD DIRS : \", end=\"\")\n",
        "print(child_dirs)"
      ],
      "execution_count": 6,
      "outputs": [
        {
          "output_type": "stream",
          "text": [
            "PATH : /content/drive/My Drive/CarDatabaseShare/kcar\n",
            "CHILD DIRS : ['Ssangyong', 'GM Daewoo', 'Chevrolet', 'Hyundai', 'Renault Samsung', 'Kia']\n"
          ],
          "name": "stdout"
        }
      ]
    },
    {
      "cell_type": "code",
      "metadata": {
        "id": "ThQ6GzjgcGjy",
        "colab_type": "code",
        "colab": {
          "base_uri": "https://localhost:8080/",
          "height": 1000
        },
        "outputId": "4874e0f0-ad47-4dda-e2ed-5677221dbe4b"
      },
      "source": [
        "retrieve_path_list = []\n",
        "len_of_dir_data = []\n",
        "\n",
        "f = open(\"retrieve_path_list.csv\", \"w\")\n",
        "\n",
        "for i in child_dirs:\n",
        "    child_dirs_c = os.listdir(i)\n",
        "    for j in child_dirs_c:\n",
        "        child_dirs_c_c = os.listdir(pathstr + '/' + i + '/' + j)\n",
        "        for k in child_dirs_c_c:\n",
        "            #print(\"PATH : \" + pathstr + '/' + i + '/' + j + '/' + k)\n",
        "            data_path = pathstr + '/' + i + '/' + j + '/' + k\n",
        "            retrieve_path_list.append(data_path)\n",
        "            len_of_dir_data.append(len(os.listdir(data_path)))\n",
        "            print(len(os.listdir(data_path)))\n",
        "\n",
        "print(len(retrieve_path_list))\n",
        "print(retrieve_path_list)\n",
        "\n",
        "for i in range(len(retrieve_path_list)):\n",
        "    f.write(str(i+1) + ',' + retrieve_path_list[i] + ',' + str(len_of_dir_data[i]) + '\\n')\n",
        "\n",
        "f.close()"
      ],
      "execution_count": 18,
      "outputs": [
        {
          "output_type": "stream",
          "text": [
            "666\n",
            "629\n",
            "644\n",
            "644\n",
            "650\n",
            "709\n",
            "553\n",
            "647\n",
            "614\n",
            "600\n",
            "605\n",
            "600\n",
            "684\n",
            "663\n",
            "643\n",
            "648\n",
            "654\n",
            "605\n",
            "714\n",
            "653\n",
            "840\n",
            "627\n",
            "770\n",
            "509\n",
            "605\n",
            "681\n",
            "624\n",
            "940\n",
            "725\n",
            "653\n",
            "635\n",
            "664\n",
            "620\n",
            "646\n",
            "762\n",
            "605\n",
            "614\n",
            "605\n",
            "619\n",
            "633\n",
            "627\n",
            "641\n",
            "652\n",
            "662\n",
            "636\n",
            "620\n",
            "639\n",
            "652\n",
            "630\n",
            "600\n",
            "639\n",
            "628\n",
            "628\n",
            "640\n",
            "625\n",
            "666\n",
            "637\n",
            "534\n",
            "651\n",
            "661\n",
            "511\n",
            "614\n",
            "637\n",
            "565\n",
            "600\n",
            "680\n",
            "600\n",
            "651\n",
            "838\n",
            "670\n",
            "625\n",
            "620\n",
            "756\n",
            "618\n",
            "609\n",
            "673\n",
            "760\n",
            "614\n",
            "780\n",
            "651\n",
            "688\n",
            "620\n",
            "685\n",
            "624\n",
            "635\n",
            "672\n",
            "634\n",
            "600\n",
            "639\n",
            "608\n",
            "600\n",
            "619\n",
            "622\n",
            "628\n",
            "661\n",
            "630\n",
            "627\n",
            "778\n",
            "761\n",
            "160\n",
            "100\n",
            "['/content/drive/My Drive/CarDatabaseShare/kcar/Ssangyong/G4 렉스턴/2017', '/content/drive/My Drive/CarDatabaseShare/kcar/Ssangyong/코란도 C/2013', '/content/drive/My Drive/CarDatabaseShare/kcar/Ssangyong/코란도 스포츠/2014', '/content/drive/My Drive/CarDatabaseShare/kcar/Ssangyong/티볼리/2015', '/content/drive/My Drive/CarDatabaseShare/kcar/Ssangyong/티볼리 에어/2016', '/content/drive/My Drive/CarDatabaseShare/kcar/Ssangyong/코란도 투리스모/2016', '/content/drive/My Drive/CarDatabaseShare/kcar/GM Daewoo/라세티/2008', '/content/drive/My Drive/CarDatabaseShare/kcar/GM Daewoo/알페온/2011', '/content/drive/My Drive/CarDatabaseShare/kcar/Chevrolet/트랙스/2015', '/content/drive/My Drive/CarDatabaseShare/kcar/Chevrolet/크루즈/2016', '/content/drive/My Drive/CarDatabaseShare/kcar/Chevrolet/말리부/2018', '/content/drive/My Drive/CarDatabaseShare/kcar/Chevrolet/말리부/2015', '/content/drive/My Drive/CarDatabaseShare/kcar/Chevrolet/캡티바/2011', '/content/drive/My Drive/CarDatabaseShare/kcar/Chevrolet/볼트 EV/2018', '/content/drive/My Drive/CarDatabaseShare/kcar/Chevrolet/스파크/2015', '/content/drive/My Drive/CarDatabaseShare/kcar/Chevrolet/넥스트스파크/2016', '/content/drive/My Drive/CarDatabaseShare/kcar/Chevrolet/볼트/2015', '/content/drive/My Drive/CarDatabaseShare/kcar/Chevrolet/임팔라/2016', '/content/drive/My Drive/CarDatabaseShare/kcar/Hyundai/G90/2018', '/content/drive/My Drive/CarDatabaseShare/kcar/Hyundai/더뉴아반떼 AD/2018', '/content/drive/My Drive/CarDatabaseShare/kcar/Hyundai/KONA 1.6T/2017', '/content/drive/My Drive/CarDatabaseShare/kcar/Hyundai/그랜저 IG/2018', '/content/drive/My Drive/CarDatabaseShare/kcar/Hyundai/그랜저/2014', '/content/drive/My Drive/CarDatabaseShare/kcar/Hyundai/더뉴그랜드스타렉스/2018', '/content/drive/My Drive/CarDatabaseShare/kcar/Hyundai/G80 스포츠/2017', '/content/drive/My Drive/CarDatabaseShare/kcar/Hyundai/i30/2017', '/content/drive/My Drive/CarDatabaseShare/kcar/Hyundai/i30/2008', '/content/drive/My Drive/CarDatabaseShare/kcar/Hyundai/그랜저 HG240/2016', '/content/drive/My Drive/CarDatabaseShare/kcar/Hyundai/소나타 뉴라이즈/2017', '/content/drive/My Drive/CarDatabaseShare/kcar/Hyundai/소나타 LF/2015', '/content/drive/My Drive/CarDatabaseShare/kcar/Hyundai/소나타/2014', '/content/drive/My Drive/CarDatabaseShare/kcar/Hyundai/소나타 하이브리드/2015', '/content/drive/My Drive/CarDatabaseShare/kcar/Hyundai/벨로스터/2018', '/content/drive/My Drive/CarDatabaseShare/kcar/Hyundai/소나타 LPI/2016', '/content/drive/My Drive/CarDatabaseShare/kcar/Hyundai/소나타 YF/2013', '/content/drive/My Drive/CarDatabaseShare/kcar/Hyundai/소나타 NF/2009', '/content/drive/My Drive/CarDatabaseShare/kcar/Hyundai/스타렉스/2014', '/content/drive/My Drive/CarDatabaseShare/kcar/Hyundai/맥스크루즈/2016', '/content/drive/My Drive/CarDatabaseShare/kcar/Hyundai/에쿠스/2013', '/content/drive/My Drive/CarDatabaseShare/kcar/Hyundai/아이오닉 하이브리드/2018', '/content/drive/My Drive/CarDatabaseShare/kcar/Hyundai/아반떼 AD/2016', '/content/drive/My Drive/CarDatabaseShare/kcar/Hyundai/엑센트/2015', '/content/drive/My Drive/CarDatabaseShare/kcar/Hyundai/제네시스 G380/2014', '/content/drive/My Drive/CarDatabaseShare/kcar/Hyundai/아슬란/2015', '/content/drive/My Drive/CarDatabaseShare/kcar/Hyundai/아반떼 MD/2015', '/content/drive/My Drive/CarDatabaseShare/kcar/Hyundai/아이오닉 일렉트릭/2016', '/content/drive/My Drive/CarDatabaseShare/kcar/Hyundai/아반떼 XD/2006', '/content/drive/My Drive/CarDatabaseShare/kcar/Hyundai/싼타페/2012', '/content/drive/My Drive/CarDatabaseShare/kcar/Hyundai/싼타페/2018', '/content/drive/My Drive/CarDatabaseShare/kcar/Hyundai/제네시스 G70/2017', '/content/drive/My Drive/CarDatabaseShare/kcar/Hyundai/제네시스 G80/2018', '/content/drive/My Drive/CarDatabaseShare/kcar/Hyundai/팰리세이드/2019', '/content/drive/My Drive/CarDatabaseShare/kcar/Hyundai/투싼 1.7D/2018', '/content/drive/My Drive/CarDatabaseShare/kcar/Hyundai/투싼/2007', '/content/drive/My Drive/CarDatabaseShare/kcar/Hyundai/투싼/2017', '/content/drive/My Drive/CarDatabaseShare/kcar/Hyundai/투싼/2012', '/content/drive/My Drive/CarDatabaseShare/kcar/Renault Samsung/클리오/2017', '/content/drive/My Drive/CarDatabaseShare/kcar/Renault Samsung/QM3/2017', '/content/drive/My Drive/CarDatabaseShare/kcar/Renault Samsung/SM3/2013', '/content/drive/My Drive/CarDatabaseShare/kcar/Renault Samsung/SM3/2011', '/content/drive/My Drive/CarDatabaseShare/kcar/Renault Samsung/SM3/2004', '/content/drive/My Drive/CarDatabaseShare/kcar/Renault Samsung/SM5/2015', '/content/drive/My Drive/CarDatabaseShare/kcar/Renault Samsung/SM520/2002', '/content/drive/My Drive/CarDatabaseShare/kcar/Renault Samsung/SM7/2016', '/content/drive/My Drive/CarDatabaseShare/kcar/Renault Samsung/QM6/2017', '/content/drive/My Drive/CarDatabaseShare/kcar/Renault Samsung/SM6/2017', '/content/drive/My Drive/CarDatabaseShare/kcar/Kia/K5/2016', '/content/drive/My Drive/CarDatabaseShare/kcar/Kia/K5/2014', '/content/drive/My Drive/CarDatabaseShare/kcar/Kia/K5/2018', '/content/drive/My Drive/CarDatabaseShare/kcar/Kia/K5/2015', '/content/drive/My Drive/CarDatabaseShare/kcar/Kia/니로 하이브리드/2018', '/content/drive/My Drive/CarDatabaseShare/kcar/Kia/K9/2013', '/content/drive/My Drive/CarDatabaseShare/kcar/Kia/K7/2018', '/content/drive/My Drive/CarDatabaseShare/kcar/Kia/K7/2016', '/content/drive/My Drive/CarDatabaseShare/kcar/Kia/K3/2017', '/content/drive/My Drive/CarDatabaseShare/kcar/Kia/K3/2016', '/content/drive/My Drive/CarDatabaseShare/kcar/Kia/스포티지/2017', '/content/drive/My Drive/CarDatabaseShare/kcar/Kia/스포티지/2018', '/content/drive/My Drive/CarDatabaseShare/kcar/Kia/스포티지/2007', '/content/drive/My Drive/CarDatabaseShare/kcar/Kia/더뉴레이/2018', '/content/drive/My Drive/CarDatabaseShare/kcar/Kia/레이/2017', '/content/drive/My Drive/CarDatabaseShare/kcar/Kia/스포티지 더볼드/2018', '/content/drive/My Drive/CarDatabaseShare/kcar/Kia/모닝/2012', '/content/drive/My Drive/CarDatabaseShare/kcar/Kia/모닝/2016', '/content/drive/My Drive/CarDatabaseShare/kcar/Kia/스팅어/2017', '/content/drive/My Drive/CarDatabaseShare/kcar/Kia/스토닉/2018', '/content/drive/My Drive/CarDatabaseShare/kcar/Kia/스포티지 R/2013', '/content/drive/My Drive/CarDatabaseShare/kcar/Kia/모하비/2017', '/content/drive/My Drive/CarDatabaseShare/kcar/Kia/쏘렌토/2018', '/content/drive/My Drive/CarDatabaseShare/kcar/Kia/카니발 11인승/2015', '/content/drive/My Drive/CarDatabaseShare/kcar/Kia/카니발 하이리무진/2018', '/content/drive/My Drive/CarDatabaseShare/kcar/Kia/쏘울 EV/2017', '/content/drive/My Drive/CarDatabaseShare/kcar/Kia/올뉴K3/2018', '/content/drive/My Drive/CarDatabaseShare/kcar/Kia/카니발/2013', '/content/drive/My Drive/CarDatabaseShare/kcar/Kia/포르테/2010', '/content/drive/My Drive/CarDatabaseShare/kcar/Kia/프라이드 해치백/2015', '/content/drive/My Drive/CarDatabaseShare/kcar/Kia/쏘울/2012', '/content/drive/My Drive/CarDatabaseShare/kcar/Kia/카렌스/2012', '/content/drive/My Drive/CarDatabaseShare/kcar/Kia/올뉴모닝/2017', '/content/drive/My Drive/CarDatabaseShare/kcar/Kia/올뉴모닝/2018']\n"
          ],
          "name": "stdout"
        }
      ]
    }
  ]
}