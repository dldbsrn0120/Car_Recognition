{
  "nbformat": 4,
  "nbformat_minor": 0,
  "metadata": {
    "colab": {
      "name": "pathparser.ipynb",
      "provenance": [],
      "mount_file_id": "1SWhckcgV40DkPFiYg6KKhVGdqVtQBZfo",
      "authorship_tag": "ABX9TyNNNFF8tRdDHOvsQ07dincN",
      "include_colab_link": true
    },
    "kernelspec": {
      "name": "python3",
      "display_name": "Python 3"
    }
  },
  "cells": [
    {
      "cell_type": "markdown",
      "metadata": {
        "id": "view-in-github",
        "colab_type": "text"
      },
      "source": [
        "<a href=\"https://colab.research.google.com/github/dldbsrn0120/Car_Recognition/blob/master/pathparser.ipynb\" target=\"_parent\"><img src=\"https://colab.research.google.com/assets/colab-badge.svg\" alt=\"Open In Colab\"/></a>"
      ]
    },
    {
      "cell_type": "code",
      "metadata": {
        "id": "MqTaNEg-BVeF",
        "colab_type": "code",
        "outputId": "20d27f5c-4ebe-4c67-d406-12ea0f18b804",
        "colab": {
          "base_uri": "https://localhost:8080/",
          "height": 34
        }
      },
      "source": [
        "import os\n",
        "import shutil\n",
        "\n",
        "os.getcwd()"
      ],
      "execution_count": 0,
      "outputs": [
        {
          "output_type": "execute_result",
          "data": {
            "text/plain": [
              "'/content'"
            ]
          },
          "metadata": {
            "tags": []
          },
          "execution_count": 1
        }
      ]
    },
    {
      "cell_type": "code",
      "metadata": {
        "id": "CRKdXpg1Btme",
        "colab_type": "code",
        "outputId": "016a3d25-a1e8-45b8-c2a9-fe80ec200e46",
        "colab": {
          "base_uri": "https://localhost:8080/",
          "height": 34
        }
      },
      "source": [
        "os.chdir(\"/content/drive/My Drive/CarDatabaseShare/kcar\")\n",
        "os.getcwd()"
      ],
      "execution_count": 0,
      "outputs": [
        {
          "output_type": "execute_result",
          "data": {
            "text/plain": [
              "'/content/drive/My Drive/CarDatabaseShare/kcar'"
            ]
          },
          "metadata": {
            "tags": []
          },
          "execution_count": 3
        }
      ]
    },
    {
      "cell_type": "code",
      "metadata": {
        "id": "o6TiGjc4CEm8",
        "colab_type": "code",
        "colab": {}
      },
      "source": [
        "pathstr = os.getcwd()"
      ],
      "execution_count": 0,
      "outputs": []
    },
    {
      "cell_type": "code",
      "metadata": {
        "id": "8ahNunkcCJl1",
        "colab_type": "code",
        "outputId": "988e59b1-386e-41f8-b501-593a7e6fa41a",
        "colab": {
          "base_uri": "https://localhost:8080/",
          "height": 34
        }
      },
      "source": [
        "print(\"PATH : \" + pathstr)"
      ],
      "execution_count": 0,
      "outputs": [
        {
          "output_type": "stream",
          "text": [
            "PATH : /content/drive/My Drive/CarDatabaseShare/kcar\n"
          ],
          "name": "stdout"
        }
      ]
    },
    {
      "cell_type": "code",
      "metadata": {
        "id": "g0SvQBkvC9qx",
        "colab_type": "code",
        "outputId": "658e7884-95ab-44eb-df6b-5d54bce0658e",
        "colab": {
          "base_uri": "https://localhost:8080/",
          "height": 52
        }
      },
      "source": [
        "child_dirs = os.listdir(pathstr)\n",
        "print(child_dirs)\n",
        "print(len(child_dirs))"
      ],
      "execution_count": 0,
      "outputs": [
        {
          "output_type": "stream",
          "text": [
            "['Ssangyong', 'GM Daewoo', 'Chevrolet', 'Hyundai', 'Renault Samsung', 'Kia']\n",
            "6\n"
          ],
          "name": "stdout"
        }
      ]
    },
    {
      "cell_type": "code",
      "metadata": {
        "id": "QpA311UVgPur",
        "colab_type": "code",
        "outputId": "adfcb0e8-ad78-4baf-81aa-53db573621b7",
        "colab": {
          "base_uri": "https://localhost:8080/",
          "height": 274
        }
      },
      "source": [
        "\n",
        "for i in child_dirs:\n",
        "    cur = pathstr + '/' + i\n",
        "    print(cur)\n",
        "    #print(\"----------------------------\")\n",
        "    \n",
        "    child_dirs_ii = os.listdir(cur)\n",
        "    print(child_dirs_ii)\n",
        "    \n",
        "    childlist = []  \n",
        "    child_list_2 = []\n",
        "    child_list_3 = []\n",
        "    child_list_4 = []\n",
        "\n",
        "    for j in child_dirs_ii:\n",
        "        cur_2 = cur + '/' + j\n",
        "        childlist.append(cur_2)\n",
        "        child_dirs_iii = os.listdir(cur_2)\n",
        "\n",
        "        for k in child_dirs_iii:\n",
        "            cur_3 = cur_2 + '/' + k\n",
        "            child_list_2.append(cur_3)\n",
        "            child_dirs_iv = os.listdir(cur_3)\n",
        "\n",
        "            for kk in child_dirs_iv:\n",
        "                cur_4 = cur_3 + '/' + kk\n",
        "                child_list_3.append(cur_4)\n",
        "                child_dirs_v = os.listdir(cur_4)\n",
        "\n",
        "                for kkk in child_dirs_v:\n",
        "                    cur_5 = cur_4 + '/' + kkk\n",
        "                    child_list_4.append(cur_5)\n",
        "                    child_dirs_vi = os.listdir(cur_5)\n",
        "\n",
        "                    for kkkk in child_dirs_vi:\n",
        "                        src = cur_5 + '/' + kkkk\n",
        "                        dest = cur_3 + '/'\n",
        "                        print(src)\n",
        "                        #shutil.move(src, dest)\n",
        "                        "
      ],
      "execution_count": 0,
      "outputs": [
        {
          "output_type": "stream",
          "text": [
            "/content/drive/My Drive/CarDatabaseShare/kcar/Ssangyong\n",
            "['G4 렉스턴', '코란도 C', '코란도 스포츠', '티볼리', '티볼리 에어', '코란도 투리스모']\n"
          ],
          "name": "stdout"
        },
        {
          "output_type": "error",
          "ename": "KeyboardInterrupt",
          "evalue": "ignored",
          "traceback": [
            "\u001b[0;31m---------------------------------------------------------------------------\u001b[0m",
            "\u001b[0;31mKeyboardInterrupt\u001b[0m                         Traceback (most recent call last)",
            "\u001b[0;32m<ipython-input-7-3d2c95d75d89>\u001b[0m in \u001b[0;36m<module>\u001b[0;34m()\u001b[0m\n\u001b[1;32m     21\u001b[0m             \u001b[0mcur_3\u001b[0m \u001b[0;34m=\u001b[0m \u001b[0mcur_2\u001b[0m \u001b[0;34m+\u001b[0m \u001b[0;34m'/'\u001b[0m \u001b[0;34m+\u001b[0m \u001b[0mk\u001b[0m\u001b[0;34m\u001b[0m\u001b[0;34m\u001b[0m\u001b[0m\n\u001b[1;32m     22\u001b[0m             \u001b[0mchild_list_2\u001b[0m\u001b[0;34m.\u001b[0m\u001b[0mappend\u001b[0m\u001b[0;34m(\u001b[0m\u001b[0mcur_3\u001b[0m\u001b[0;34m)\u001b[0m\u001b[0;34m\u001b[0m\u001b[0;34m\u001b[0m\u001b[0m\n\u001b[0;32m---> 23\u001b[0;31m             \u001b[0mchild_dirs_iv\u001b[0m \u001b[0;34m=\u001b[0m \u001b[0mos\u001b[0m\u001b[0;34m.\u001b[0m\u001b[0mlistdir\u001b[0m\u001b[0;34m(\u001b[0m\u001b[0mcur_3\u001b[0m\u001b[0;34m)\u001b[0m\u001b[0;34m\u001b[0m\u001b[0;34m\u001b[0m\u001b[0m\n\u001b[0m\u001b[1;32m     24\u001b[0m \u001b[0;34m\u001b[0m\u001b[0m\n\u001b[1;32m     25\u001b[0m             \u001b[0;32mfor\u001b[0m \u001b[0mkk\u001b[0m \u001b[0;32min\u001b[0m \u001b[0mchild_dirs_iv\u001b[0m\u001b[0;34m:\u001b[0m\u001b[0;34m\u001b[0m\u001b[0;34m\u001b[0m\u001b[0m\n",
            "\u001b[0;31mKeyboardInterrupt\u001b[0m: "
          ]
        }
      ]
    },
    {
      "cell_type": "code",
      "metadata": {
        "id": "Q0O4I7qADfPz",
        "colab_type": "code",
        "outputId": "ace6b333-8299-41c1-89dc-fa6732f04840",
        "colab": {
          "base_uri": "https://localhost:8080/",
          "height": 1000
        }
      },
      "source": [
        "#for i in child_dirs:\n",
        "cur = pathstr + '/' + child_dirs[5]\n",
        "print(cur)\n",
        "#print(\"----------------------------\")\n",
        "\n",
        "child_dirs_ii = os.listdir(cur)\n",
        "print(child_dirs_ii)\n",
        "\n",
        "childlist = []  \n",
        "child_list_2 = []\n",
        "child_list_3 = []\n",
        "child_list_4 = []\n",
        "\n",
        "for j in child_dirs_ii:\n",
        "    cur_2 = cur + '/' + j\n",
        "    childlist.append(cur_2)\n",
        "    child_dirs_iii = os.listdir(cur_2)\n",
        "\n",
        "    for k in child_dirs_iii:\n",
        "        cur_3 = cur_2 + '/' + k\n",
        "        child_list_2.append(cur_3)\n",
        "        child_dirs_iv = os.listdir(cur_3)\n",
        "\n",
        "        for kk in child_dirs_iv:\n",
        "            cur_4 = cur_3 + '/' + kk     \n",
        "            if os.path.isdir(cur_4):\n",
        "                print(cur_4)\n",
        "                shutil.rmtree(cur_4)"
      ],
      "execution_count": 0,
      "outputs": [
        {
          "output_type": "stream",
          "text": [
            "/content/drive/My Drive/CarDatabaseShare/kcar/Kia\n",
            "['K5', '니로 하이브리드', 'K9', 'K7', 'K3', '스포티지', '더뉴레이', '레이', '스포티지 더볼드', '모닝', '스팅어', '스토닉', '스포티지 R', '모하비', '쏘렌토', '카니발 11인승', '카니발 하이리무진', '쏘울 EV', '올뉴K3', '카니발', '포르테', '프라이드 해치백', '쏘울', '카렌스', '올뉴모닝']\n",
            "/content/drive/My Drive/CarDatabaseShare/kcar/Kia/K5/2015/10시대\n",
            "/content/drive/My Drive/CarDatabaseShare/kcar/Kia/K5/2015/15시대\n",
            "/content/drive/My Drive/CarDatabaseShare/kcar/Kia/K5/2015/17시대\n",
            "/content/drive/My Drive/CarDatabaseShare/kcar/Kia/K5/2015/18시대\n",
            "/content/drive/My Drive/CarDatabaseShare/kcar/Kia/K5/2015/실내\n",
            "/content/drive/My Drive/CarDatabaseShare/kcar/Kia/K5/2014/10시대\n",
            "/content/drive/My Drive/CarDatabaseShare/kcar/Kia/K5/2014/12시대\n",
            "/content/drive/My Drive/CarDatabaseShare/kcar/Kia/K5/2014/17시대\n",
            "/content/drive/My Drive/CarDatabaseShare/kcar/Kia/K5/2014/18시대\n",
            "/content/drive/My Drive/CarDatabaseShare/kcar/Kia/K5/2014/실내\n",
            "/content/drive/My Drive/CarDatabaseShare/kcar/Kia/K5/2018/10시대\n",
            "/content/drive/My Drive/CarDatabaseShare/kcar/Kia/K5/2018/13시대\n",
            "/content/drive/My Drive/CarDatabaseShare/kcar/Kia/K5/2018/15시대\n",
            "/content/drive/My Drive/CarDatabaseShare/kcar/Kia/K5/2018/17시대\n",
            "/content/drive/My Drive/CarDatabaseShare/kcar/Kia/K5/2018/18시대\n",
            "/content/drive/My Drive/CarDatabaseShare/kcar/Kia/K5/2018/실내\n",
            "/content/drive/My Drive/CarDatabaseShare/kcar/Kia/K5/2016/18시대\n",
            "/content/drive/My Drive/CarDatabaseShare/kcar/Kia/K5/2016/실내\n",
            "/content/drive/My Drive/CarDatabaseShare/kcar/Kia/K5/2016/10시대\n",
            "/content/drive/My Drive/CarDatabaseShare/kcar/Kia/K5/2016/12시대\n",
            "/content/drive/My Drive/CarDatabaseShare/kcar/Kia/K5/2016/15시대\n",
            "/content/drive/My Drive/CarDatabaseShare/kcar/Kia/니로 하이브리드/2018/10시대\n",
            "/content/drive/My Drive/CarDatabaseShare/kcar/Kia/니로 하이브리드/2018/14시대\n",
            "/content/drive/My Drive/CarDatabaseShare/kcar/Kia/니로 하이브리드/2018/16시대\n",
            "/content/drive/My Drive/CarDatabaseShare/kcar/Kia/니로 하이브리드/2018/18시대\n",
            "/content/drive/My Drive/CarDatabaseShare/kcar/Kia/니로 하이브리드/2018/실내\n",
            "/content/drive/My Drive/CarDatabaseShare/kcar/Kia/K9/2013/10시대\n",
            "/content/drive/My Drive/CarDatabaseShare/kcar/Kia/K9/2013/14시대\n",
            "/content/drive/My Drive/CarDatabaseShare/kcar/Kia/K9/2013/16시대\n",
            "/content/drive/My Drive/CarDatabaseShare/kcar/Kia/K9/2013/18시대\n",
            "/content/drive/My Drive/CarDatabaseShare/kcar/Kia/K9/2013/실내\n",
            "/content/drive/My Drive/CarDatabaseShare/kcar/Kia/K7/2018/10시대\n",
            "/content/drive/My Drive/CarDatabaseShare/kcar/Kia/K7/2018/14시대\n",
            "/content/drive/My Drive/CarDatabaseShare/kcar/Kia/K7/2018/16시대\n",
            "/content/drive/My Drive/CarDatabaseShare/kcar/Kia/K7/2018/17시대\n",
            "/content/drive/My Drive/CarDatabaseShare/kcar/Kia/K7/2018/18시대\n",
            "/content/drive/My Drive/CarDatabaseShare/kcar/Kia/K7/2018/실내\n",
            "/content/drive/My Drive/CarDatabaseShare/kcar/Kia/K7/2016/10시대\n",
            "/content/drive/My Drive/CarDatabaseShare/kcar/Kia/K7/2016/14시대\n",
            "/content/drive/My Drive/CarDatabaseShare/kcar/Kia/K7/2016/15시대\n",
            "/content/drive/My Drive/CarDatabaseShare/kcar/Kia/K7/2016/16시대\n",
            "/content/drive/My Drive/CarDatabaseShare/kcar/Kia/K7/2016/실내\n",
            "/content/drive/My Drive/CarDatabaseShare/kcar/Kia/K3/2016/실내\n",
            "/content/drive/My Drive/CarDatabaseShare/kcar/Kia/K3/2016/14시대\n",
            "/content/drive/My Drive/CarDatabaseShare/kcar/Kia/K3/2016/15시대\n",
            "/content/drive/My Drive/CarDatabaseShare/kcar/Kia/K3/2016/17시대\n",
            "/content/drive/My Drive/CarDatabaseShare/kcar/Kia/K3/2016/18시대\n",
            "/content/drive/My Drive/CarDatabaseShare/kcar/Kia/K3/2017/10시대\n",
            "/content/drive/My Drive/CarDatabaseShare/kcar/Kia/K3/2017/14시대\n",
            "/content/drive/My Drive/CarDatabaseShare/kcar/Kia/K3/2017/16시대\n",
            "/content/drive/My Drive/CarDatabaseShare/kcar/Kia/K3/2017/18시대\n",
            "/content/drive/My Drive/CarDatabaseShare/kcar/Kia/K3/2017/실내\n",
            "/content/drive/My Drive/CarDatabaseShare/kcar/Kia/스포티지/2007/10시대\n",
            "/content/drive/My Drive/CarDatabaseShare/kcar/Kia/스포티지/2007/13시대\n",
            "/content/drive/My Drive/CarDatabaseShare/kcar/Kia/스포티지/2007/15시대\n",
            "/content/drive/My Drive/CarDatabaseShare/kcar/Kia/스포티지/2007/17시대\n",
            "/content/drive/My Drive/CarDatabaseShare/kcar/Kia/스포티지/2007/18시대\n",
            "/content/drive/My Drive/CarDatabaseShare/kcar/Kia/스포티지/2007/실내\n",
            "/content/drive/My Drive/CarDatabaseShare/kcar/Kia/스포티지/2017/10시대\n",
            "/content/drive/My Drive/CarDatabaseShare/kcar/Kia/스포티지/2017/14시대\n",
            "/content/drive/My Drive/CarDatabaseShare/kcar/Kia/스포티지/2017/16시대\n",
            "/content/drive/My Drive/CarDatabaseShare/kcar/Kia/스포티지/2017/17시대\n",
            "/content/drive/My Drive/CarDatabaseShare/kcar/Kia/스포티지/2017/18시대\n",
            "/content/drive/My Drive/CarDatabaseShare/kcar/Kia/스포티지/2017/실내\n",
            "/content/drive/My Drive/CarDatabaseShare/kcar/Kia/스포티지/2018/14시대\n",
            "/content/drive/My Drive/CarDatabaseShare/kcar/Kia/스포티지/2018/16시대\n",
            "/content/drive/My Drive/CarDatabaseShare/kcar/Kia/스포티지/2018/18시대\n",
            "/content/drive/My Drive/CarDatabaseShare/kcar/Kia/스포티지/2018/실내\n",
            "/content/drive/My Drive/CarDatabaseShare/kcar/Kia/스포티지/2018/10시대\n",
            "/content/drive/My Drive/CarDatabaseShare/kcar/Kia/더뉴레이/2018/10시대\n",
            "/content/drive/My Drive/CarDatabaseShare/kcar/Kia/더뉴레이/2018/14시대\n",
            "/content/drive/My Drive/CarDatabaseShare/kcar/Kia/더뉴레이/2018/17시대\n",
            "/content/drive/My Drive/CarDatabaseShare/kcar/Kia/더뉴레이/2018/18시대\n",
            "/content/drive/My Drive/CarDatabaseShare/kcar/Kia/더뉴레이/2018/실내\n",
            "/content/drive/My Drive/CarDatabaseShare/kcar/Kia/레이/2017/10시대\n",
            "/content/drive/My Drive/CarDatabaseShare/kcar/Kia/레이/2017/14시대\n",
            "/content/drive/My Drive/CarDatabaseShare/kcar/Kia/레이/2017/17시대\n",
            "/content/drive/My Drive/CarDatabaseShare/kcar/Kia/레이/2017/18시대\n",
            "/content/drive/My Drive/CarDatabaseShare/kcar/Kia/레이/2017/실내\n",
            "/content/drive/My Drive/CarDatabaseShare/kcar/Kia/스포티지 더볼드/2018/10시대\n",
            "/content/drive/My Drive/CarDatabaseShare/kcar/Kia/스포티지 더볼드/2018/15시대\n",
            "/content/drive/My Drive/CarDatabaseShare/kcar/Kia/스포티지 더볼드/2018/16시대\n",
            "/content/drive/My Drive/CarDatabaseShare/kcar/Kia/스포티지 더볼드/2018/18시대\n",
            "/content/drive/My Drive/CarDatabaseShare/kcar/Kia/스포티지 더볼드/2018/실내\n",
            "/content/drive/My Drive/CarDatabaseShare/kcar/Kia/모닝/2012/10시대\n",
            "/content/drive/My Drive/CarDatabaseShare/kcar/Kia/모닝/2012/14시대\n",
            "/content/drive/My Drive/CarDatabaseShare/kcar/Kia/모닝/2012/16시대\n",
            "/content/drive/My Drive/CarDatabaseShare/kcar/Kia/모닝/2012/18시대\n",
            "/content/drive/My Drive/CarDatabaseShare/kcar/Kia/모닝/2012/실내\n",
            "/content/drive/My Drive/CarDatabaseShare/kcar/Kia/모닝/2016/10시대\n",
            "/content/drive/My Drive/CarDatabaseShare/kcar/Kia/모닝/2016/14시대\n",
            "/content/drive/My Drive/CarDatabaseShare/kcar/Kia/모닝/2016/15시대\n",
            "/content/drive/My Drive/CarDatabaseShare/kcar/Kia/모닝/2016/17시대\n",
            "/content/drive/My Drive/CarDatabaseShare/kcar/Kia/모닝/2016/실내\n",
            "/content/drive/My Drive/CarDatabaseShare/kcar/Kia/스팅어/2017/10시대\n",
            "/content/drive/My Drive/CarDatabaseShare/kcar/Kia/스팅어/2017/14시대\n",
            "/content/drive/My Drive/CarDatabaseShare/kcar/Kia/스팅어/2017/17시대\n",
            "/content/drive/My Drive/CarDatabaseShare/kcar/Kia/스팅어/2017/18시대\n",
            "/content/drive/My Drive/CarDatabaseShare/kcar/Kia/스팅어/2017/실내\n",
            "/content/drive/My Drive/CarDatabaseShare/kcar/Kia/스토닉/2018/실내\n",
            "/content/drive/My Drive/CarDatabaseShare/kcar/Kia/스토닉/2018/10시대\n",
            "/content/drive/My Drive/CarDatabaseShare/kcar/Kia/스토닉/2018/14시대\n",
            "/content/drive/My Drive/CarDatabaseShare/kcar/Kia/스토닉/2018/15시대\n",
            "/content/drive/My Drive/CarDatabaseShare/kcar/Kia/스토닉/2018/18시대\n",
            "/content/drive/My Drive/CarDatabaseShare/kcar/Kia/스포티지 R/2013/10시대\n",
            "/content/drive/My Drive/CarDatabaseShare/kcar/Kia/스포티지 R/2013/14시대\n",
            "/content/drive/My Drive/CarDatabaseShare/kcar/Kia/스포티지 R/2013/16시대\n",
            "/content/drive/My Drive/CarDatabaseShare/kcar/Kia/스포티지 R/2013/18시대\n",
            "/content/drive/My Drive/CarDatabaseShare/kcar/Kia/스포티지 R/2013/실내\n",
            "/content/drive/My Drive/CarDatabaseShare/kcar/Kia/모하비/2017/10시대\n",
            "/content/drive/My Drive/CarDatabaseShare/kcar/Kia/모하비/2017/14시대\n",
            "/content/drive/My Drive/CarDatabaseShare/kcar/Kia/모하비/2017/16시대\n",
            "/content/drive/My Drive/CarDatabaseShare/kcar/Kia/모하비/2017/18시대\n",
            "/content/drive/My Drive/CarDatabaseShare/kcar/Kia/모하비/2017/실내\n",
            "/content/drive/My Drive/CarDatabaseShare/kcar/Kia/쏘렌토/2018/10시대\n",
            "/content/drive/My Drive/CarDatabaseShare/kcar/Kia/쏘렌토/2018/14시대\n",
            "/content/drive/My Drive/CarDatabaseShare/kcar/Kia/쏘렌토/2018/16시대\n",
            "/content/drive/My Drive/CarDatabaseShare/kcar/Kia/쏘렌토/2018/18시대\n",
            "/content/drive/My Drive/CarDatabaseShare/kcar/Kia/쏘렌토/2018/실내\n",
            "/content/drive/My Drive/CarDatabaseShare/kcar/Kia/카니발 11인승/2015/10시대\n",
            "/content/drive/My Drive/CarDatabaseShare/kcar/Kia/카니발 11인승/2015/14시대\n",
            "/content/drive/My Drive/CarDatabaseShare/kcar/Kia/카니발 11인승/2015/17시대\n",
            "/content/drive/My Drive/CarDatabaseShare/kcar/Kia/카니발 11인승/2015/18시대\n",
            "/content/drive/My Drive/CarDatabaseShare/kcar/Kia/카니발 11인승/2015/실내\n",
            "/content/drive/My Drive/CarDatabaseShare/kcar/Kia/카니발 하이리무진/2018/18시대\n",
            "/content/drive/My Drive/CarDatabaseShare/kcar/Kia/카니발 하이리무진/2018/실내\n",
            "/content/drive/My Drive/CarDatabaseShare/kcar/Kia/카니발 하이리무진/2018/10시대\n",
            "/content/drive/My Drive/CarDatabaseShare/kcar/Kia/카니발 하이리무진/2018/14시대\n",
            "/content/drive/My Drive/CarDatabaseShare/kcar/Kia/카니발 하이리무진/2018/16시대\n",
            "/content/drive/My Drive/CarDatabaseShare/kcar/Kia/쏘울 EV/2017/10시대\n",
            "/content/drive/My Drive/CarDatabaseShare/kcar/Kia/쏘울 EV/2017/14시대\n",
            "/content/drive/My Drive/CarDatabaseShare/kcar/Kia/쏘울 EV/2017/16시대\n",
            "/content/drive/My Drive/CarDatabaseShare/kcar/Kia/쏘울 EV/2017/18시대\n",
            "/content/drive/My Drive/CarDatabaseShare/kcar/Kia/쏘울 EV/2017/실내\n",
            "/content/drive/My Drive/CarDatabaseShare/kcar/Kia/올뉴K3/2018/14시대\n",
            "/content/drive/My Drive/CarDatabaseShare/kcar/Kia/올뉴K3/2018/15시대\n",
            "/content/drive/My Drive/CarDatabaseShare/kcar/Kia/올뉴K3/2018/17시대\n",
            "/content/drive/My Drive/CarDatabaseShare/kcar/Kia/올뉴K3/2018/19시대\n",
            "/content/drive/My Drive/CarDatabaseShare/kcar/Kia/올뉴K3/2018/실내\n",
            "/content/drive/My Drive/CarDatabaseShare/kcar/Kia/카니발/2013/10시대\n",
            "/content/drive/My Drive/CarDatabaseShare/kcar/Kia/카니발/2013/14시대\n",
            "/content/drive/My Drive/CarDatabaseShare/kcar/Kia/카니발/2013/16시대\n",
            "/content/drive/My Drive/CarDatabaseShare/kcar/Kia/카니발/2013/18시대\n",
            "/content/drive/My Drive/CarDatabaseShare/kcar/Kia/카니발/2013/실내\n",
            "/content/drive/My Drive/CarDatabaseShare/kcar/Kia/포르테/2010/10시대\n",
            "/content/drive/My Drive/CarDatabaseShare/kcar/Kia/포르테/2010/14시대\n",
            "/content/drive/My Drive/CarDatabaseShare/kcar/Kia/포르테/2010/16시대\n",
            "/content/drive/My Drive/CarDatabaseShare/kcar/Kia/포르테/2010/17시대\n",
            "/content/drive/My Drive/CarDatabaseShare/kcar/Kia/포르테/2010/18시대\n",
            "/content/drive/My Drive/CarDatabaseShare/kcar/Kia/프라이드 해치백/2015/11시대\n",
            "/content/drive/My Drive/CarDatabaseShare/kcar/Kia/프라이드 해치백/2015/14시대\n",
            "/content/drive/My Drive/CarDatabaseShare/kcar/Kia/프라이드 해치백/2015/17시대\n",
            "/content/drive/My Drive/CarDatabaseShare/kcar/Kia/프라이드 해치백/2015/18시대\n",
            "/content/drive/My Drive/CarDatabaseShare/kcar/Kia/프라이드 해치백/2015/실내\n",
            "/content/drive/My Drive/CarDatabaseShare/kcar/Kia/쏘울/2012/11시대\n",
            "/content/drive/My Drive/CarDatabaseShare/kcar/Kia/쏘울/2012/14시대\n",
            "/content/drive/My Drive/CarDatabaseShare/kcar/Kia/쏘울/2012/16시대\n",
            "/content/drive/My Drive/CarDatabaseShare/kcar/Kia/쏘울/2012/18시대\n",
            "/content/drive/My Drive/CarDatabaseShare/kcar/Kia/쏘울/2012/실내\n",
            "/content/drive/My Drive/CarDatabaseShare/kcar/Kia/카렌스/2012/11시대(비)\n",
            "/content/drive/My Drive/CarDatabaseShare/kcar/Kia/카렌스/2012/14시대\n",
            "/content/drive/My Drive/CarDatabaseShare/kcar/Kia/카렌스/2012/15시대\n",
            "/content/drive/My Drive/CarDatabaseShare/kcar/Kia/카렌스/2012/17시대\n",
            "/content/drive/My Drive/CarDatabaseShare/kcar/Kia/카렌스/2012/18시대\n",
            "/content/drive/My Drive/CarDatabaseShare/kcar/Kia/카렌스/2012/실내\n",
            "/content/drive/My Drive/CarDatabaseShare/kcar/Kia/올뉴모닝/2017/19시대\n",
            "/content/drive/My Drive/CarDatabaseShare/kcar/Kia/올뉴모닝/2017/실내\n",
            "/content/drive/My Drive/CarDatabaseShare/kcar/Kia/올뉴모닝/2017/10시대\n",
            "/content/drive/My Drive/CarDatabaseShare/kcar/Kia/올뉴모닝/2017/14시대\n",
            "/content/drive/My Drive/CarDatabaseShare/kcar/Kia/올뉴모닝/2017/16시대\n",
            "/content/drive/My Drive/CarDatabaseShare/kcar/Kia/올뉴모닝/2017/17시대\n",
            "/content/drive/My Drive/CarDatabaseShare/kcar/Kia/올뉴모닝/2018/10시대\n",
            "/content/drive/My Drive/CarDatabaseShare/kcar/Kia/올뉴모닝/2018/15시대\n",
            "/content/drive/My Drive/CarDatabaseShare/kcar/Kia/올뉴모닝/2018/17시대\n",
            "/content/drive/My Drive/CarDatabaseShare/kcar/Kia/올뉴모닝/2018/18시대\n",
            "/content/drive/My Drive/CarDatabaseShare/kcar/Kia/올뉴모닝/2018/실내\n"
          ],
          "name": "stdout"
        }
      ]
    },
    {
      "cell_type": "code",
      "metadata": {
        "id": "v6Rzyr6yEgHA",
        "colab_type": "code",
        "colab": {}
      },
      "source": [
        ""
      ],
      "execution_count": 0,
      "outputs": []
    }
  ]
}